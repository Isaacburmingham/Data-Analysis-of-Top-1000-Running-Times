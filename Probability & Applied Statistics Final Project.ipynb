{
 "cells": [
  {
   "cell_type": "markdown",
   "metadata": {},
   "source": [
    "# Probability and Applied Statistics Final Project\n",
    "## Isaac Burmingham & Tyler LaLonde"
   ]
  },
  {
   "cell_type": "markdown",
   "metadata": {},
   "source": [
    "For our final project, we chose to analyze the top 1000 times of all Olympic distances and the half-marathon. The data was taken from Kaggle (https://www.kaggle.com/jguerreiro/running). This Python code outlines the tests that were done on some of the data. "
   ]
  },
  {
   "cell_type": "code",
   "execution_count": 1,
   "metadata": {},
   "outputs": [
    {
     "data": {
      "text/html": [
       "<div>\n",
       "<style scoped>\n",
       "    .dataframe tbody tr th:only-of-type {\n",
       "        vertical-align: middle;\n",
       "    }\n",
       "\n",
       "    .dataframe tbody tr th {\n",
       "        vertical-align: top;\n",
       "    }\n",
       "\n",
       "    .dataframe thead th {\n",
       "        text-align: right;\n",
       "    }\n",
       "</style>\n",
       "<table border=\"1\" class=\"dataframe\">\n",
       "  <thead>\n",
       "    <tr style=\"text-align: right;\">\n",
       "      <th></th>\n",
       "      <th>Rank</th>\n",
       "      <th>Time</th>\n",
       "      <th>Name</th>\n",
       "      <th>Country</th>\n",
       "      <th>Date of Birth</th>\n",
       "      <th>Place</th>\n",
       "      <th>City</th>\n",
       "      <th>Date</th>\n",
       "      <th>Gender</th>\n",
       "      <th>Event</th>\n",
       "    </tr>\n",
       "  </thead>\n",
       "  <tbody>\n",
       "    <tr>\n",
       "      <td>0</td>\n",
       "      <td>1</td>\n",
       "      <td>00:01:40.910000</td>\n",
       "      <td>David Rudisha</td>\n",
       "      <td>KEN</td>\n",
       "      <td>1988-12-17</td>\n",
       "      <td>1.0</td>\n",
       "      <td>London</td>\n",
       "      <td>2012-09-08</td>\n",
       "      <td>Men</td>\n",
       "      <td>800 m</td>\n",
       "    </tr>\n",
       "    <tr>\n",
       "      <td>1</td>\n",
       "      <td>2</td>\n",
       "      <td>00:01:41.010000</td>\n",
       "      <td>David Rudisha</td>\n",
       "      <td>KEN</td>\n",
       "      <td>1988-12-17</td>\n",
       "      <td>1.0</td>\n",
       "      <td>Rieti</td>\n",
       "      <td>2010-08-29</td>\n",
       "      <td>Men</td>\n",
       "      <td>800 m</td>\n",
       "    </tr>\n",
       "    <tr>\n",
       "      <td>2</td>\n",
       "      <td>3</td>\n",
       "      <td>00:01:41.090000</td>\n",
       "      <td>David Rudisha</td>\n",
       "      <td>KEN</td>\n",
       "      <td>1988-12-17</td>\n",
       "      <td>1.0</td>\n",
       "      <td>Berlin</td>\n",
       "      <td>2010-08-22</td>\n",
       "      <td>Men</td>\n",
       "      <td>800 m</td>\n",
       "    </tr>\n",
       "    <tr>\n",
       "      <td>3</td>\n",
       "      <td>4</td>\n",
       "      <td>00:01:41.110000</td>\n",
       "      <td>Wilson Kipketer</td>\n",
       "      <td>DEN</td>\n",
       "      <td>1970-12-12</td>\n",
       "      <td>1.0</td>\n",
       "      <td>Köln</td>\n",
       "      <td>1997-08-24</td>\n",
       "      <td>Men</td>\n",
       "      <td>800 m</td>\n",
       "    </tr>\n",
       "    <tr>\n",
       "      <td>4</td>\n",
       "      <td>5</td>\n",
       "      <td>00:01:41.240000</td>\n",
       "      <td>Wilson Kipketer</td>\n",
       "      <td>DEN</td>\n",
       "      <td>1970-12-12</td>\n",
       "      <td>1.0</td>\n",
       "      <td>Zürich</td>\n",
       "      <td>1997-08-13</td>\n",
       "      <td>Men</td>\n",
       "      <td>800 m</td>\n",
       "    </tr>\n",
       "    <tr>\n",
       "      <td>...</td>\n",
       "      <td>...</td>\n",
       "      <td>...</td>\n",
       "      <td>...</td>\n",
       "      <td>...</td>\n",
       "      <td>...</td>\n",
       "      <td>...</td>\n",
       "      <td>...</td>\n",
       "      <td>...</td>\n",
       "      <td>...</td>\n",
       "      <td>...</td>\n",
       "    </tr>\n",
       "    <tr>\n",
       "      <td>18239</td>\n",
       "      <td>1000</td>\n",
       "      <td>00:03:33.250000</td>\n",
       "      <td>Noureddine Morceli</td>\n",
       "      <td>ALG</td>\n",
       "      <td>1970-02-28</td>\n",
       "      <td>1.0</td>\n",
       "      <td>Moskva</td>\n",
       "      <td>1995-06-05</td>\n",
       "      <td>Men</td>\n",
       "      <td>1500 m</td>\n",
       "    </tr>\n",
       "    <tr>\n",
       "      <td>18240</td>\n",
       "      <td>1000</td>\n",
       "      <td>00:03:33.250000</td>\n",
       "      <td>Paul Korir</td>\n",
       "      <td>KEN</td>\n",
       "      <td>1977-07-15</td>\n",
       "      <td>5.0</td>\n",
       "      <td>Zürich</td>\n",
       "      <td>2003-08-15</td>\n",
       "      <td>Men</td>\n",
       "      <td>1500 m</td>\n",
       "    </tr>\n",
       "    <tr>\n",
       "      <td>18241</td>\n",
       "      <td>1000</td>\n",
       "      <td>00:03:33.250000</td>\n",
       "      <td>Hudson Santos de Souza</td>\n",
       "      <td>BRA</td>\n",
       "      <td>1977-02-25</td>\n",
       "      <td>5.0</td>\n",
       "      <td>Rieti</td>\n",
       "      <td>2005-08-28</td>\n",
       "      <td>Men</td>\n",
       "      <td>1500 m</td>\n",
       "    </tr>\n",
       "    <tr>\n",
       "      <td>18242</td>\n",
       "      <td>1000</td>\n",
       "      <td>00:03:33.250000</td>\n",
       "      <td>Issac Songok</td>\n",
       "      <td>KEN</td>\n",
       "      <td>1984-04-25</td>\n",
       "      <td>2.0</td>\n",
       "      <td>Stockholm</td>\n",
       "      <td>2006-07-25</td>\n",
       "      <td>Men</td>\n",
       "      <td>1500 m</td>\n",
       "    </tr>\n",
       "    <tr>\n",
       "      <td>18243</td>\n",
       "      <td>1000</td>\n",
       "      <td>00:03:33.250000</td>\n",
       "      <td>Bethwell Birgen</td>\n",
       "      <td>KEN</td>\n",
       "      <td>1988-08-06</td>\n",
       "      <td>7.0</td>\n",
       "      <td>Lausanne</td>\n",
       "      <td>2012-08-23</td>\n",
       "      <td>Men</td>\n",
       "      <td>1500 m</td>\n",
       "    </tr>\n",
       "  </tbody>\n",
       "</table>\n",
       "<p>18244 rows × 10 columns</p>\n",
       "</div>"
      ],
      "text/plain": [
       "       Rank             Time                    Name Country Date of Birth  \\\n",
       "0         1  00:01:40.910000           David Rudisha     KEN    1988-12-17   \n",
       "1         2  00:01:41.010000           David Rudisha     KEN    1988-12-17   \n",
       "2         3  00:01:41.090000           David Rudisha     KEN    1988-12-17   \n",
       "3         4  00:01:41.110000         Wilson Kipketer     DEN    1970-12-12   \n",
       "4         5  00:01:41.240000         Wilson Kipketer     DEN    1970-12-12   \n",
       "...     ...              ...                     ...     ...           ...   \n",
       "18239  1000  00:03:33.250000      Noureddine Morceli     ALG    1970-02-28   \n",
       "18240  1000  00:03:33.250000              Paul Korir     KEN    1977-07-15   \n",
       "18241  1000  00:03:33.250000  Hudson Santos de Souza     BRA    1977-02-25   \n",
       "18242  1000  00:03:33.250000            Issac Songok     KEN    1984-04-25   \n",
       "18243  1000  00:03:33.250000         Bethwell Birgen     KEN    1988-08-06   \n",
       "\n",
       "       Place       City        Date Gender   Event  \n",
       "0        1.0     London  2012-09-08    Men   800 m  \n",
       "1        1.0      Rieti  2010-08-29    Men   800 m  \n",
       "2        1.0     Berlin  2010-08-22    Men   800 m  \n",
       "3        1.0       Köln  1997-08-24    Men   800 m  \n",
       "4        1.0     Zürich  1997-08-13    Men   800 m  \n",
       "...      ...        ...         ...    ...     ...  \n",
       "18239    1.0     Moskva  1995-06-05    Men  1500 m  \n",
       "18240    5.0     Zürich  2003-08-15    Men  1500 m  \n",
       "18241    5.0      Rieti  2005-08-28    Men  1500 m  \n",
       "18242    2.0  Stockholm  2006-07-25    Men  1500 m  \n",
       "18243    7.0   Lausanne  2012-08-23    Men  1500 m  \n",
       "\n",
       "[18244 rows x 10 columns]"
      ]
     },
     "execution_count": 1,
     "metadata": {},
     "output_type": "execute_result"
    }
   ],
   "source": [
    "import pandas as pd\n",
    "import seaborn as sns\n",
    "import matplotlib.pyplot as plt\n",
    "import numpy as np\n",
    "import folium\n",
    "import datetime\n",
    "import time\n",
    "import statsmodels.api as sm\n",
    "%matplotlib inline\n",
    "\n",
    "df = pd.read_csv('/Users/Isaac/Probability & Applied Stats/data.csv') # read in data\n",
    "\n",
    "df"
   ]
  },
  {
   "cell_type": "code",
   "execution_count": 2,
   "metadata": {},
   "outputs": [],
   "source": [
    "# calculate a new time as a float instead of a string.\n",
    "\n",
    "df[\"newTime\"] = df[\"Time\"].apply(lambda x:int(x.split(\":\")[0]) + \n",
    "                                                              int(x.split(\":\")[1]) + float(((x.split(\":\")[2]))))"
   ]
  },
  {
   "cell_type": "code",
   "execution_count": 4,
   "metadata": {},
   "outputs": [],
   "source": [
    "df[\"Year\"] = pd.to_datetime(df[\"Date\"]).apply(lambda x:x.year)"
   ]
  },
  {
   "cell_type": "code",
   "execution_count": 5,
   "metadata": {},
   "outputs": [
    {
     "data": {
      "text/plain": [
       "106"
      ]
     },
     "execution_count": 5,
     "metadata": {},
     "output_type": "execute_result"
    }
   ],
   "source": [
    "countries = df['Country'].unique().tolist()\n",
    "len(countries)"
   ]
  },
  {
   "cell_type": "markdown",
   "metadata": {},
   "source": [
    "Calculate the age of each athlete,"
   ]
  },
  {
   "cell_type": "code",
   "execution_count": 7,
   "metadata": {},
   "outputs": [],
   "source": [
    "df['yearbirth'] = pd.to_datetime(df[\"Date of Birth\"]).apply(lambda x:x.year)\n",
    "df['Age'] = df['Year'] - df['yearbirth']"
   ]
  },
  {
   "cell_type": "markdown",
   "metadata": {},
   "source": [
    "# Test of Independence: Age and Place"
   ]
  },
  {
   "cell_type": "markdown",
   "metadata": {},
   "source": [
    "A Chi-Squared test of independence was performed on the age and place of each athlete, to determine whether the variables were independent.\n",
    "\n",
    "Null Hypothesis: Age and Place are independent. \n",
    "Alternative Hypothesis: Age and Place are dependent."
   ]
  },
  {
   "cell_type": "markdown",
   "metadata": {},
   "source": [
    "In order to clean things up, the ages were binned into a range. This was so that we did not have a large number of columns. We also restricted the place to only the top 3, which would be considered podium places. In order to calculate Chi-Squared, we need a table of observed values. This is done with the pd.crosstab method. "
   ]
  },
  {
   "cell_type": "code",
   "execution_count": 9,
   "metadata": {},
   "outputs": [
    {
     "data": {
      "text/html": [
       "<div>\n",
       "<style scoped>\n",
       "    .dataframe tbody tr th:only-of-type {\n",
       "        vertical-align: middle;\n",
       "    }\n",
       "\n",
       "    .dataframe tbody tr th {\n",
       "        vertical-align: top;\n",
       "    }\n",
       "\n",
       "    .dataframe thead th {\n",
       "        text-align: right;\n",
       "    }\n",
       "</style>\n",
       "<table border=\"1\" class=\"dataframe\">\n",
       "  <thead>\n",
       "    <tr style=\"text-align: right;\">\n",
       "      <th>binned_age</th>\n",
       "      <th>15-19</th>\n",
       "      <th>20-24</th>\n",
       "      <th>25-29</th>\n",
       "      <th>30-34</th>\n",
       "      <th>35-39</th>\n",
       "      <th>40-49</th>\n",
       "      <th>All</th>\n",
       "    </tr>\n",
       "    <tr>\n",
       "      <th>Place</th>\n",
       "      <th></th>\n",
       "      <th></th>\n",
       "      <th></th>\n",
       "      <th></th>\n",
       "      <th></th>\n",
       "      <th></th>\n",
       "      <th></th>\n",
       "    </tr>\n",
       "  </thead>\n",
       "  <tbody>\n",
       "    <tr>\n",
       "      <td>1.0</td>\n",
       "      <td>210</td>\n",
       "      <td>3013</td>\n",
       "      <td>3261</td>\n",
       "      <td>1278</td>\n",
       "      <td>197</td>\n",
       "      <td>8</td>\n",
       "      <td>7967</td>\n",
       "    </tr>\n",
       "    <tr>\n",
       "      <td>2.0</td>\n",
       "      <td>104</td>\n",
       "      <td>1398</td>\n",
       "      <td>1630</td>\n",
       "      <td>669</td>\n",
       "      <td>96</td>\n",
       "      <td>5</td>\n",
       "      <td>3902</td>\n",
       "    </tr>\n",
       "    <tr>\n",
       "      <td>3.0</td>\n",
       "      <td>72</td>\n",
       "      <td>767</td>\n",
       "      <td>945</td>\n",
       "      <td>426</td>\n",
       "      <td>58</td>\n",
       "      <td>4</td>\n",
       "      <td>2272</td>\n",
       "    </tr>\n",
       "    <tr>\n",
       "      <td>All</td>\n",
       "      <td>386</td>\n",
       "      <td>5178</td>\n",
       "      <td>5836</td>\n",
       "      <td>2373</td>\n",
       "      <td>351</td>\n",
       "      <td>17</td>\n",
       "      <td>14141</td>\n",
       "    </tr>\n",
       "  </tbody>\n",
       "</table>\n",
       "</div>"
      ],
      "text/plain": [
       "binned_age  15-19  20-24  25-29  30-34  35-39  40-49    All\n",
       "Place                                                      \n",
       "1.0           210   3013   3261   1278    197      8   7967\n",
       "2.0           104   1398   1630    669     96      5   3902\n",
       "3.0            72    767    945    426     58      4   2272\n",
       "All           386   5178   5836   2373    351     17  14141"
      ]
     },
     "execution_count": 9,
     "metadata": {},
     "output_type": "execute_result"
    }
   ],
   "source": [
    "def bin_age(df):\n",
    "    cut_points = [15,19,24,29,34,39,49]\n",
    "    label_names = [\"15-19\",\"20-24\",\"25-29\",\"30-34\",\"35-39\",\"40-49\"]\n",
    "    df[\"binned_age\"] = pd.cut(df[\"Age\"],cut_points,labels=label_names)\n",
    "    return df\n",
    "\n",
    "grouped_age = bin_age(df)\n",
    "\n",
    "medalsdf2 = grouped_age[grouped_age['Place'] <= 3.0]\n",
    "\n",
    "ageplacef = pd.crosstab(medalsdf2['Place'],grouped_age['binned_age'],margins=True)\n",
    "ageplacef"
   ]
  },
  {
   "cell_type": "markdown",
   "metadata": {},
   "source": [
    "Let's visualize the data. This heatmap easily shows us which age is optimal for achieving a 1st place finish and so on where the \"hotter\" regions are the regions with the most counts in our data. So it seems that the range between 21-29 is the best range for a first place finish."
   ]
  },
  {
   "cell_type": "code",
   "execution_count": 10,
   "metadata": {},
   "outputs": [
    {
     "data": {
      "text/plain": [
       "<matplotlib.axes._subplots.AxesSubplot at 0x10c093a58>"
      ]
     },
     "execution_count": 10,
     "metadata": {},
     "output_type": "execute_result"
    },
    {
     "data": {
      "image/png": "[encoded data removed]",
      "text/plain": [
       "<Figure size 432x288 with 2 Axes>"
      ]
     },
     "metadata": {
      "needs_background": "light"
     },
     "output_type": "display_data"
    }
   ],
   "source": [
    "sns.heatmap(pd.crosstab(medalsdf2['Age'],medalsdf2['Place']))"
   ]
  },
  {
   "cell_type": "markdown",
   "metadata": {},
   "source": [
    "Next, we need to move our frequency table into a numpy array so that our chi2 function will work."
   ]
  },
  {
   "cell_type": "code",
   "execution_count": 13,
   "metadata": {},
   "outputs": [],
   "source": [
    "f_obs = np.array([ageplacef.iloc[0][:].values, ageplacef.iloc[1][:].values,ageplacef.iloc[2][:].values])"
   ]
  },
  {
   "cell_type": "markdown",
   "metadata": {},
   "source": [
    "Using a package called scipy, calculating the chi-squared is easily done. We do not need to calculate the expected values table since it is scipy computes it for us. The output is (Chi-Squared Value, p-value, df)"
   ]
  },
  {
   "cell_type": "code",
   "execution_count": 14,
   "metadata": {},
   "outputs": [
    {
     "data": {
      "text/plain": [
       "(20.396264899749262, 0.025719785249870338, 10)"
      ]
     },
     "execution_count": 14,
     "metadata": {},
     "output_type": "execute_result"
    }
   ],
   "source": [
    "from scipy import stats\n",
    "stats.chi2_contingency(f_obs)[0:3]"
   ]
  },
  {
   "cell_type": "code",
   "execution_count": 15,
   "metadata": {},
   "outputs": [
    {
     "data": {
      "text/html": [
       "<div>\n",
       "<style scoped>\n",
       "    .dataframe tbody tr th:only-of-type {\n",
       "        vertical-align: middle;\n",
       "    }\n",
       "\n",
       "    .dataframe tbody tr th {\n",
       "        vertical-align: top;\n",
       "    }\n",
       "\n",
       "    .dataframe thead th {\n",
       "        text-align: right;\n",
       "    }\n",
       "</style>\n",
       "<table border=\"1\" class=\"dataframe\">\n",
       "  <thead>\n",
       "    <tr style=\"text-align: right;\">\n",
       "      <th></th>\n",
       "      <th>Chi Squared</th>\n",
       "      <th>Alpha Level</th>\n",
       "      <th>p-value</th>\n",
       "      <th>Degrees of Freedom</th>\n",
       "      <th>Accept/Reject</th>\n",
       "      <th>Error Type</th>\n",
       "    </tr>\n",
       "  </thead>\n",
       "  <tbody>\n",
       "    <tr>\n",
       "      <td>Age and Top 3 Place</td>\n",
       "      <td>20.3963</td>\n",
       "      <td>0.05</td>\n",
       "      <td>0.02572</td>\n",
       "      <td>10</td>\n",
       "      <td>Reject the Null</td>\n",
       "      <td>Type I</td>\n",
       "    </tr>\n",
       "  </tbody>\n",
       "</table>\n",
       "</div>"
      ],
      "text/plain": [
       "                    Chi Squared Alpha Level  p-value Degrees of Freedom  \\\n",
       "Age and Top 3 Place     20.3963        0.05  0.02572                 10   \n",
       "\n",
       "                       Accept/Reject Error Type  \n",
       "Age and Top 3 Place  Reject the Null     Type I  "
      ]
     },
     "execution_count": 15,
     "metadata": {},
     "output_type": "execute_result"
    }
   ],
   "source": [
    "d = {'Chi Squared': ['20.3963'],'Alpha Level':['0.05'],'p-value': ['0.02572'],'Degrees of Freedom':['10'],'Accept/Reject':['Reject the Null'],'Error Type':['Type I']}\n",
    "results = pd.DataFrame(data=d)\n",
    "results.rename(index = {0:'Age and Top 3 Place'},inplace = True)\n",
    "results"
   ]
  },
  {
   "cell_type": "markdown",
   "metadata": {},
   "source": [
    "As a result, reject the null in favor of the alternative hypothesis and conclude that Age and a Top 3 finish are dependent."
   ]
  },
  {
   "cell_type": "markdown",
   "metadata": {},
   "source": [
    "# Test of Independence: Country and Place"
   ]
  },
  {
   "cell_type": "markdown",
   "metadata": {},
   "source": [
    "We can do the same as above."
   ]
  },
  {
   "cell_type": "code",
   "execution_count": 18,
   "metadata": {},
   "outputs": [
    {
     "data": {
      "text/html": [
       "<div>\n",
       "<style scoped>\n",
       "    .dataframe tbody tr th:only-of-type {\n",
       "        vertical-align: middle;\n",
       "    }\n",
       "\n",
       "    .dataframe tbody tr th {\n",
       "        vertical-align: top;\n",
       "    }\n",
       "\n",
       "    .dataframe thead th {\n",
       "        text-align: right;\n",
       "    }\n",
       "</style>\n",
       "<table border=\"1\" class=\"dataframe\">\n",
       "  <thead>\n",
       "    <tr style=\"text-align: right;\">\n",
       "      <th>Country</th>\n",
       "      <th>AHO</th>\n",
       "      <th>AIA</th>\n",
       "      <th>ALG</th>\n",
       "      <th>ANT</th>\n",
       "      <th>ARG</th>\n",
       "      <th>AUS</th>\n",
       "      <th>AUT</th>\n",
       "      <th>AZE</th>\n",
       "      <th>BAH</th>\n",
       "      <th>BAR</th>\n",
       "      <th>...</th>\n",
       "      <th>TTO</th>\n",
       "      <th>TUR</th>\n",
       "      <th>UAE</th>\n",
       "      <th>UGA</th>\n",
       "      <th>UKR</th>\n",
       "      <th>USA</th>\n",
       "      <th>UZB</th>\n",
       "      <th>VEN</th>\n",
       "      <th>ZAM</th>\n",
       "      <th>ZIM</th>\n",
       "    </tr>\n",
       "    <tr>\n",
       "      <th>Place</th>\n",
       "      <th></th>\n",
       "      <th></th>\n",
       "      <th></th>\n",
       "      <th></th>\n",
       "      <th></th>\n",
       "      <th></th>\n",
       "      <th></th>\n",
       "      <th></th>\n",
       "      <th></th>\n",
       "      <th></th>\n",
       "      <th></th>\n",
       "      <th></th>\n",
       "      <th></th>\n",
       "      <th></th>\n",
       "      <th></th>\n",
       "      <th></th>\n",
       "      <th></th>\n",
       "      <th></th>\n",
       "      <th></th>\n",
       "      <th></th>\n",
       "      <th></th>\n",
       "    </tr>\n",
       "  </thead>\n",
       "  <tbody>\n",
       "    <tr>\n",
       "      <td>1.0</td>\n",
       "      <td>5</td>\n",
       "      <td>0</td>\n",
       "      <td>67</td>\n",
       "      <td>9</td>\n",
       "      <td>0</td>\n",
       "      <td>75</td>\n",
       "      <td>6</td>\n",
       "      <td>1</td>\n",
       "      <td>83</td>\n",
       "      <td>6</td>\n",
       "      <td>...</td>\n",
       "      <td>90</td>\n",
       "      <td>30</td>\n",
       "      <td>0</td>\n",
       "      <td>7</td>\n",
       "      <td>99</td>\n",
       "      <td>1793</td>\n",
       "      <td>4</td>\n",
       "      <td>0</td>\n",
       "      <td>2</td>\n",
       "      <td>5</td>\n",
       "    </tr>\n",
       "    <tr>\n",
       "      <td>2.0</td>\n",
       "      <td>1</td>\n",
       "      <td>1</td>\n",
       "      <td>19</td>\n",
       "      <td>2</td>\n",
       "      <td>1</td>\n",
       "      <td>17</td>\n",
       "      <td>6</td>\n",
       "      <td>0</td>\n",
       "      <td>35</td>\n",
       "      <td>7</td>\n",
       "      <td>...</td>\n",
       "      <td>37</td>\n",
       "      <td>4</td>\n",
       "      <td>1</td>\n",
       "      <td>11</td>\n",
       "      <td>57</td>\n",
       "      <td>681</td>\n",
       "      <td>9</td>\n",
       "      <td>2</td>\n",
       "      <td>0</td>\n",
       "      <td>3</td>\n",
       "    </tr>\n",
       "    <tr>\n",
       "      <td>3.0</td>\n",
       "      <td>1</td>\n",
       "      <td>0</td>\n",
       "      <td>11</td>\n",
       "      <td>3</td>\n",
       "      <td>0</td>\n",
       "      <td>22</td>\n",
       "      <td>3</td>\n",
       "      <td>0</td>\n",
       "      <td>26</td>\n",
       "      <td>3</td>\n",
       "      <td>...</td>\n",
       "      <td>22</td>\n",
       "      <td>5</td>\n",
       "      <td>0</td>\n",
       "      <td>10</td>\n",
       "      <td>40</td>\n",
       "      <td>318</td>\n",
       "      <td>2</td>\n",
       "      <td>1</td>\n",
       "      <td>0</td>\n",
       "      <td>0</td>\n",
       "    </tr>\n",
       "  </tbody>\n",
       "</table>\n",
       "<p>3 rows × 102 columns</p>\n",
       "</div>"
      ],
      "text/plain": [
       "Country  AHO  AIA  ALG  ANT  ARG  AUS  AUT  AZE  BAH  BAR  ...  TTO  TUR  UAE  \\\n",
       "Place                                                      ...                  \n",
       "1.0        5    0   67    9    0   75    6    1   83    6  ...   90   30    0   \n",
       "2.0        1    1   19    2    1   17    6    0   35    7  ...   37    4    1   \n",
       "3.0        1    0   11    3    0   22    3    0   26    3  ...   22    5    0   \n",
       "\n",
       "Country  UGA  UKR   USA  UZB  VEN  ZAM  ZIM  \n",
       "Place                                        \n",
       "1.0        7   99  1793    4    0    2    5  \n",
       "2.0       11   57   681    9    2    0    3  \n",
       "3.0       10   40   318    2    1    0    0  \n",
       "\n",
       "[3 rows x 102 columns]"
      ]
     },
     "execution_count": 18,
     "metadata": {},
     "output_type": "execute_result"
    }
   ],
   "source": [
    "cplace = pd.crosstab(medalsdf2['Place'],medalsdf2['Country'])\n",
    "f_obs2 = np.array([cplace.iloc[0][:].values, cplace.iloc[1][:].values,cplace.iloc[2][:].values])\n",
    "cplace"
   ]
  },
  {
   "cell_type": "code",
   "execution_count": 19,
   "metadata": {},
   "outputs": [
    {
     "data": {
      "text/plain": [
       "(658.7397769190708, 8.150672238774324e-50, 202)"
      ]
     },
     "execution_count": 19,
     "metadata": {},
     "output_type": "execute_result"
    }
   ],
   "source": [
    "stats.chi2_contingency(f_obs2)[0:3]"
   ]
  },
  {
   "cell_type": "code",
   "execution_count": 20,
   "metadata": {},
   "outputs": [
    {
     "data": {
      "text/html": [
       "<div>\n",
       "<style scoped>\n",
       "    .dataframe tbody tr th:only-of-type {\n",
       "        vertical-align: middle;\n",
       "    }\n",
       "\n",
       "    .dataframe tbody tr th {\n",
       "        vertical-align: top;\n",
       "    }\n",
       "\n",
       "    .dataframe thead th {\n",
       "        text-align: right;\n",
       "    }\n",
       "</style>\n",
       "<table border=\"1\" class=\"dataframe\">\n",
       "  <thead>\n",
       "    <tr style=\"text-align: right;\">\n",
       "      <th></th>\n",
       "      <th>Chi Squared</th>\n",
       "      <th>Alpha Level</th>\n",
       "      <th>p-value</th>\n",
       "      <th>Degrees of Freedom</th>\n",
       "      <th>Accept/Reject</th>\n",
       "      <th>Error Type</th>\n",
       "    </tr>\n",
       "  </thead>\n",
       "  <tbody>\n",
       "    <tr>\n",
       "      <td>Country and Top 3 Place</td>\n",
       "      <td>658.7398</td>\n",
       "      <td>0.05</td>\n",
       "      <td>0</td>\n",
       "      <td>202</td>\n",
       "      <td>Reject the Null</td>\n",
       "      <td>Type I</td>\n",
       "    </tr>\n",
       "  </tbody>\n",
       "</table>\n",
       "</div>"
      ],
      "text/plain": [
       "                        Chi Squared Alpha Level p-value Degrees of Freedom  \\\n",
       "Country and Top 3 Place    658.7398        0.05       0                202   \n",
       "\n",
       "                           Accept/Reject Error Type  \n",
       "Country and Top 3 Place  Reject the Null     Type I  "
      ]
     },
     "execution_count": 20,
     "metadata": {},
     "output_type": "execute_result"
    }
   ],
   "source": [
    "d = {'Chi Squared': ['658.7398'],'Alpha Level':['0.05'],'p-value': ['0'],'Degrees of Freedom':['202'],'Accept/Reject':['Reject the Null'],'Error Type':['Type I']}\n",
    "results = pd.DataFrame(data=d)\n",
    "results.rename(index = {0:'Country and Top 3 Place'},inplace = True)\n",
    "results"
   ]
  },
  {
   "cell_type": "markdown",
   "metadata": {},
   "source": [
    "So when testing between country and a top 3 finish, we find that these are associated as well."
   ]
  },
  {
   "cell_type": "markdown",
   "metadata": {},
   "source": [
    "# ANOVA Test: Age and Event"
   ]
  },
  {
   "cell_type": "markdown",
   "metadata": {},
   "source": [
    "Next we wanted to do an ANOVA Test to see if the average age among all 9 events were equal or at least one was significantly different."
   ]
  },
  {
   "cell_type": "code",
   "execution_count": 24,
   "metadata": {},
   "outputs": [
    {
     "data": {
      "image/png": "[encoded data removed]",
      "text/plain": [
       "<Figure size 432x288 with 1 Axes>"
      ]
     },
     "metadata": {
      "needs_background": "light"
     },
     "output_type": "display_data"
    }
   ],
   "source": [
    "sns.boxplot(x='Age',y='Event',data=df)\n",
    "plt.xlim(10,47)\n",
    "plt.title('Age and Event')\n",
    "plt.xlabel('Age')\n",
    "plt.ylabel('Event')\n",
    "plt.axvline(25.8,0,1,c='black',linestyle='--')\n",
    "plt.show()"
   ]
  },
  {
   "cell_type": "markdown",
   "metadata": {},
   "source": [
    "This box plot shows the average age among each event and their standard deviations. The black dashed line is the average age of all nine events which is 25.8. To perform the ANOVA test, an ANOVA table was calculated using the statsmodel package."
   ]
  },
  {
   "cell_type": "code",
   "execution_count": 25,
   "metadata": {},
   "outputs": [
    {
     "data": {
      "text/html": [
       "<div>\n",
       "<style scoped>\n",
       "    .dataframe tbody tr th:only-of-type {\n",
       "        vertical-align: middle;\n",
       "    }\n",
       "\n",
       "    .dataframe tbody tr th {\n",
       "        vertical-align: top;\n",
       "    }\n",
       "\n",
       "    .dataframe thead th {\n",
       "        text-align: right;\n",
       "    }\n",
       "</style>\n",
       "<table border=\"1\" class=\"dataframe\">\n",
       "  <thead>\n",
       "    <tr style=\"text-align: right;\">\n",
       "      <th></th>\n",
       "      <th>sum_sq</th>\n",
       "      <th>df</th>\n",
       "      <th>F</th>\n",
       "      <th>p-value (&gt;F)</th>\n",
       "    </tr>\n",
       "  </thead>\n",
       "  <tbody>\n",
       "    <tr>\n",
       "      <td>Event</td>\n",
       "      <td>17820.175970</td>\n",
       "      <td>8.0</td>\n",
       "      <td>137.498844</td>\n",
       "      <td>2.731934e-225</td>\n",
       "    </tr>\n",
       "    <tr>\n",
       "      <td>Residual</td>\n",
       "      <td>295412.401096</td>\n",
       "      <td>18235.0</td>\n",
       "      <td>NaN</td>\n",
       "      <td>NaN</td>\n",
       "    </tr>\n",
       "  </tbody>\n",
       "</table>\n",
       "</div>"
      ],
      "text/plain": [
       "                 sum_sq       df           F   p-value (>F)\n",
       "Event      17820.175970      8.0  137.498844  2.731934e-225\n",
       "Residual  295412.401096  18235.0         NaN            NaN"
      ]
     },
     "execution_count": 25,
     "metadata": {},
     "output_type": "execute_result"
    }
   ],
   "source": [
    "import statsmodels.api as sm\n",
    "from statsmodels.formula.api import ols\n",
    "mod = ols('Age ~ Event',data=df).fit()\n",
    "anov_tab = sm.stats.anova_lm(mod,typ=2)\n",
    "anov_tab.rename(columns={'PR(>F)':'p-value (>F)'})"
   ]
  },
  {
   "cell_type": "markdown",
   "metadata": {},
   "source": [
    "Since the p-value is about equal to 0, this tells us that at least one comparison is significantly different. So, we want to figure out which comparisons are and aren't. To do this, we must run a post-hoc analysis."
   ]
  },
  {
   "cell_type": "markdown",
   "metadata": {},
   "source": [
    "## Post-hoc Analysis"
   ]
  },
  {
   "cell_type": "code",
   "execution_count": 28,
   "metadata": {},
   "outputs": [
    {
     "data": {
      "text/html": [
       "<div>\n",
       "<style scoped>\n",
       "    .dataframe tbody tr th:only-of-type {\n",
       "        vertical-align: middle;\n",
       "    }\n",
       "\n",
       "    .dataframe tbody tr th {\n",
       "        vertical-align: top;\n",
       "    }\n",
       "\n",
       "    .dataframe thead th {\n",
       "        text-align: right;\n",
       "    }\n",
       "</style>\n",
       "<table border=\"1\" class=\"dataframe\">\n",
       "  <thead>\n",
       "    <tr style=\"text-align: right;\">\n",
       "      <th></th>\n",
       "      <th>coef</th>\n",
       "      <th>std err</th>\n",
       "      <th>t</th>\n",
       "      <th>P&gt;|t|</th>\n",
       "      <th>Conf. Int. Low</th>\n",
       "      <th>Conf. Int. Upp.</th>\n",
       "      <th>pvalue-bonferroni</th>\n",
       "      <th>reject-bonferroni</th>\n",
       "    </tr>\n",
       "  </thead>\n",
       "  <tbody>\n",
       "    <tr>\n",
       "      <td>100 m-10,000 m</td>\n",
       "      <td>0.824553</td>\n",
       "      <td>0.124902</td>\n",
       "      <td>6.601613</td>\n",
       "      <td>4.179147e-11</td>\n",
       "      <td>0.579734</td>\n",
       "      <td>1.069372</td>\n",
       "      <td>1.504493e-09</td>\n",
       "      <td>True</td>\n",
       "    </tr>\n",
       "    <tr>\n",
       "      <td>1500 m-10,000 m</td>\n",
       "      <td>0.298920</td>\n",
       "      <td>0.127281</td>\n",
       "      <td>2.348507</td>\n",
       "      <td>1.885947e-02</td>\n",
       "      <td>0.049438</td>\n",
       "      <td>0.548403</td>\n",
       "      <td>6.789411e-01</td>\n",
       "      <td>False</td>\n",
       "    </tr>\n",
       "    <tr>\n",
       "      <td>200 m-10,000 m</td>\n",
       "      <td>-0.276421</td>\n",
       "      <td>0.126766</td>\n",
       "      <td>-2.180555</td>\n",
       "      <td>2.922911e-02</td>\n",
       "      <td>-0.524895</td>\n",
       "      <td>-0.027947</td>\n",
       "      <td>1.000000e+00</td>\n",
       "      <td>False</td>\n",
       "    </tr>\n",
       "    <tr>\n",
       "      <td>400 m-10,000 m</td>\n",
       "      <td>-0.518250</td>\n",
       "      <td>0.127077</td>\n",
       "      <td>-4.078249</td>\n",
       "      <td>4.556890e-05</td>\n",
       "      <td>-0.767332</td>\n",
       "      <td>-0.269168</td>\n",
       "      <td>1.640480e-03</td>\n",
       "      <td>True</td>\n",
       "    </tr>\n",
       "    <tr>\n",
       "      <td>5000 m-10,000 m</td>\n",
       "      <td>-0.715740</td>\n",
       "      <td>0.127344</td>\n",
       "      <td>-5.620507</td>\n",
       "      <td>1.931832e-08</td>\n",
       "      <td>-0.965346</td>\n",
       "      <td>-0.466133</td>\n",
       "      <td>6.954595e-07</td>\n",
       "      <td>True</td>\n",
       "    </tr>\n",
       "  </tbody>\n",
       "</table>\n",
       "</div>"
      ],
      "text/plain": [
       "                     coef   std err         t         P>|t|  Conf. Int. Low  \\\n",
       "100 m-10,000 m   0.824553  0.124902  6.601613  4.179147e-11        0.579734   \n",
       "1500 m-10,000 m  0.298920  0.127281  2.348507  1.885947e-02        0.049438   \n",
       "200 m-10,000 m  -0.276421  0.126766 -2.180555  2.922911e-02       -0.524895   \n",
       "400 m-10,000 m  -0.518250  0.127077 -4.078249  4.556890e-05       -0.767332   \n",
       "5000 m-10,000 m -0.715740  0.127344 -5.620507  1.931832e-08       -0.965346   \n",
       "\n",
       "                 Conf. Int. Upp.  pvalue-bonferroni  reject-bonferroni  \n",
       "100 m-10,000 m          1.069372       1.504493e-09               True  \n",
       "1500 m-10,000 m         0.548403       6.789411e-01              False  \n",
       "200 m-10,000 m         -0.027947       1.000000e+00              False  \n",
       "400 m-10,000 m         -0.269168       1.640480e-03               True  \n",
       "5000 m-10,000 m        -0.466133       6.954595e-07               True  "
      ]
     },
     "execution_count": 28,
     "metadata": {},
     "output_type": "execute_result"
    }
   ],
   "source": [
    "pair_t = mod.t_test_pairwise('Event',method = 'bonferroni')\n",
    "pairtdf = pair_t.result_frame\n",
    "pairtdf\n",
    "reject = pairtdf[pairtdf['reject-bonferroni'] == True]\n",
    "pairtdf.head()"
   ]
  },
  {
   "cell_type": "code",
   "execution_count": 32,
   "metadata": {},
   "outputs": [
    {
     "data": {
      "text/plain": [
       "36"
      ]
     },
     "execution_count": 32,
     "metadata": {},
     "output_type": "execute_result"
    }
   ],
   "source": [
    "len(pairtdf)"
   ]
  },
  {
   "cell_type": "markdown",
   "metadata": {},
   "source": [
    "For the sake of space I only printed out the first 5 comparisons. There are 36 in total (9 choose 2). The Bonferroni method was chosen in order to reduce our Type I Error inflation. Since we have so many comparisons, the error rate at our original significance level of 0.05 was,"
   ]
  },
  {
   "cell_type": "code",
   "execution_count": 29,
   "metadata": {},
   "outputs": [
    {
     "data": {
      "text/plain": [
       "0.8422207852117732"
      ]
     },
     "execution_count": 29,
     "metadata": {},
     "output_type": "execute_result"
    }
   ],
   "source": [
    "1-(1-0.05)**36"
   ]
  },
  {
   "cell_type": "markdown",
   "metadata": {},
   "source": [
    "So using the Bonferroni method, we can calculate a new alpha level by dividing 0.05 by the number of comparisons."
   ]
  },
  {
   "cell_type": "code",
   "execution_count": 30,
   "metadata": {},
   "outputs": [
    {
     "data": {
      "text/plain": [
       "0.001388888888888889"
      ]
     },
     "execution_count": 30,
     "metadata": {},
     "output_type": "execute_result"
    }
   ],
   "source": [
    "0.05/36"
   ]
  },
  {
   "cell_type": "code",
   "execution_count": 31,
   "metadata": {},
   "outputs": [
    {
     "data": {
      "text/plain": [
       "0.048807444408204836"
      ]
     },
     "execution_count": 31,
     "metadata": {},
     "output_type": "execute_result"
    }
   ],
   "source": [
    "1-(1-0.001389)**36"
   ]
  },
  {
   "cell_type": "markdown",
   "metadata": {},
   "source": [
    "This gives us a much better error rate of 0.0488. So, based on the reject-bonferroni column, we can determine which are significantly different. If it is True, then they are the comparisions that are significantly different at our new alpha level."
   ]
  },
  {
   "cell_type": "code",
   "execution_count": 33,
   "metadata": {},
   "outputs": [
    {
     "data": {
      "text/plain": [
       "True     29\n",
       "False     7\n",
       "Name: reject-bonferroni, dtype: int64"
      ]
     },
     "execution_count": 33,
     "metadata": {},
     "output_type": "execute_result"
    }
   ],
   "source": [
    "pairtdf['reject-bonferroni'].value_counts()"
   ]
  },
  {
   "cell_type": "code",
   "execution_count": 35,
   "metadata": {},
   "outputs": [
    {
     "data": {
      "image/png": "[encoded data removed]",
      "text/plain": [
       "<Figure size 432x288 with 1 Axes>"
      ]
     },
     "metadata": {
      "needs_background": "light"
     },
     "output_type": "display_data"
    }
   ],
   "source": [
    "pairtdf['reject-bonferroni'].value_counts().plot(kind='barh')\n",
    "plt.xlabel('Count')\n",
    "plt.ylabel('Decision')\n",
    "plt.title('Reject Bonferroni')\n",
    "plt.show()"
   ]
  },
  {
   "cell_type": "markdown",
   "metadata": {},
   "source": [
    "So you can see, the majority of the comparisons were significantly different. "
   ]
  },
  {
   "cell_type": "markdown",
   "metadata": {},
   "source": [
    "# Hypothesis Test of Age and Event\n",
    "This was performed in Excel. An estimate of the total age for all events was determined to be 20 and used as our null hypothesis. Our alternative hypothesis was that the average age was not 20. Then, the p-value for each was calculated. Using an alpha level of 0.05, we determined whether to reject or fail to reject the null. The graphs outline the age per event, as well a line plot of the p-values as a function of event, indicating which were rejected if they fell below the line of 0.05, and which were accepted.  "
   ]
  },
  {
   "cell_type": "code",
   "execution_count": null,
   "metadata": {},
   "outputs": [],
   "source": []
  }
 ],
 "metadata": {
  "kernelspec": {
   "display_name": "Python 3",
   "language": "python",
   "name": "python3"
  },
  "language_info": {
   "codemirror_mode": {
    "name": "ipython",
    "version": 3
   },
   "file_extension": ".py",
   "mimetype": "text/x-python",
   "name": "python",
   "nbconvert_exporter": "python",
   "pygments_lexer": "ipython3",
   "version": "3.6.9"
  }
 },
 "nbformat": 4,
 "nbformat_minor": 2
}
